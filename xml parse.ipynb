{
 "cells": [
  {
   "cell_type": "code",
   "execution_count": 74,
   "metadata": {
    "collapsed": true
   },
   "outputs": [],
   "source": [
    "from bs4 import BeautifulSoup\n",
    "\n",
    "animeme = BeautifulSoup(open(\"animeme.avc\"),\"xml\")\n"
   ]
  },
  {
   "cell_type": "code",
   "execution_count": 75,
   "metadata": {
    "collapsed": false,
    "scrolled": true
   },
   "outputs": [
    {
     "data": {
      "text/plain": [
       "583"
      ]
     },
     "execution_count": 75,
     "metadata": {},
     "output_type": "execute_result"
    }
   ],
   "source": [
    "len(animeme.find_all('videoClip'))"
   ]
  },
  {
   "cell_type": "code",
   "execution_count": 51,
   "metadata": {
    "collapsed": false
   },
   "outputs": [
    {
     "data": {
      "text/plain": [
       "['\\n',\n",
       " <parameter duration=\"23023.023\" orgDuration=\"23023.023\" paramControlType=\"1\" paramSubType=\"2\" paramType=\"10\">\n",
       " <name value=\"Position\"/>\n",
       " <nameGiven value=\"Position\"/>\n",
       " <textValue value=\"\"/>\n",
       " <extended value=\"0\"/>\n",
       " <values curValue=\"912.80482\" defaultValue=\"0\" startValue=\"0\" stopValue=\"23023.023\"/>\n",
       " <pointsOfInterest value=\"22963.9361\">\n",
       " <choices>\n",
       " <choice index=\"0\" isActive=\"1\" isEnabled=\"1\" name=\"\" value=\"12847.2128\"/>\n",
       " <choice index=\"1\" isActive=\"1\" isEnabled=\"1\" name=\"\" value=\"22963.9361\"/>\n",
       " <choice index=\"2\" isActive=\"1\" isEnabled=\"1\" name=\"\" value=\"22075.0328\"/>\n",
       " <choice index=\"3\" isActive=\"1\" isEnabled=\"1\" name=\"\" value=\"1220.91789\"/>\n",
       " <choice index=\"4\" isActive=\"1\" isEnabled=\"1\" name=\"\" value=\"593.536368\"/>\n",
       " <choice index=\"5\" isActive=\"1\" isEnabled=\"1\" name=\"\" value=\"22897.7473\"/>\n",
       " </choices>\n",
       " </pointsOfInterest>\n",
       " <jumpToPointsOfInterest value=\"2\"/>\n",
       " <speedFactor curValue=\"2.4399856\" defaultValue=\"1\" startValue=\"0.0001\" stopValue=\"10\"/>\n",
       " <direction value=\"0\"/>\n",
       " <playmode value=\"1\"/>\n",
       " <playmodeAway value=\"0\"/>\n",
       " <linkMultiplier curValue=\"32\" defaultValue=\"1\" startValue=\"1\" stopValue=\"4096\"/>\n",
       " <linkModifier curValue=\"0\" defaultValue=\"0\" startValue=\"0\" stopValue=\"1\"/>\n",
       " <modifiers>\n",
       " <modifier index=\"1000\" type=\"4\">\n",
       " <properties>\n",
       " <easeIn value=\"0\"/>\n",
       " <easeOut value=\"1\"/>\n",
       " <option value=\"2\"/>\n",
       " </properties>\n",
       " </modifier>\n",
       " </modifiers>\n",
       " </parameter>,\n",
       " '\\n',\n",
       " <parameter>\n",
       " <name value=\"Width\"/>\n",
       " <nameGiven value=\"Width\"/>\n",
       " <values curValue=\"1280\" defaultValue=\"640\" startValue=\"0\" stopValue=\"16384\"/>\n",
       " </parameter>,\n",
       " '\\n',\n",
       " <parameter>\n",
       " <name value=\"Height\"/>\n",
       " <nameGiven value=\"Height\"/>\n",
       " <values curValue=\"720\" defaultValue=\"360\" startValue=\"0\" stopValue=\"16384\"/>\n",
       " </parameter>,\n",
       " '\\n',\n",
       " <parameter paramControlType=\"2\">\n",
       " <name value=\"Position X\"/>\n",
       " <nameGiven value=\"Position X\"/>\n",
       " </parameter>,\n",
       " '\\n',\n",
       " <parameter paramControlType=\"2\">\n",
       " <name value=\"Position Y\"/>\n",
       " <nameGiven value=\"Position Y\"/>\n",
       " </parameter>,\n",
       " '\\n']"
      ]
     },
     "execution_count": 51,
     "metadata": {},
     "output_type": "execute_result"
    }
   ],
   "source": [
    "animeme.videoClip.settings.parameters.contents"
   ]
  },
  {
   "cell_type": "code",
   "execution_count": 64,
   "metadata": {
    "collapsed": false
   },
   "outputs": [
    {
     "name": "stdout",
     "output_type": "stream",
     "text": [
      "Position\n",
      "Width\n",
      "Height\n",
      "Position X\n",
      "Position Y\n"
     ]
    }
   ],
   "source": [
    "ps = animeme.videoClip.settings.parameters.find_all('parameter')\n",
    "for p in ps:\n",
    "    print(p.nameGiven['value'])\n"
   ]
  },
  {
   "cell_type": "code",
   "execution_count": 71,
   "metadata": {
    "collapsed": false
   },
   "outputs": [
    {
     "data": {
      "text/plain": [
       "[<choice index=\"0\" isActive=\"1\" isEnabled=\"1\" name=\"\" value=\"12847.2128\"/>,\n",
       " <choice index=\"1\" isActive=\"1\" isEnabled=\"1\" name=\"\" value=\"22963.9361\"/>,\n",
       " <choice index=\"2\" isActive=\"1\" isEnabled=\"1\" name=\"\" value=\"22075.0328\"/>,\n",
       " <choice index=\"3\" isActive=\"1\" isEnabled=\"1\" name=\"\" value=\"1220.91789\"/>,\n",
       " <choice index=\"4\" isActive=\"1\" isEnabled=\"1\" name=\"\" value=\"593.536368\"/>,\n",
       " <choice index=\"5\" isActive=\"1\" isEnabled=\"1\" name=\"\" value=\"22897.7473\"/>]"
      ]
     },
     "execution_count": 71,
     "metadata": {},
     "output_type": "execute_result"
    }
   ],
   "source": [
    "ps[0].pointsOfInterest.choices.find_all(\"choice\")"
   ]
  },
  {
   "cell_type": "code",
   "execution_count": 73,
   "metadata": {
    "collapsed": false
   },
   "outputs": [
    {
     "data": {
      "text/plain": [
       "'2.4399856'"
      ]
     },
     "execution_count": 73,
     "metadata": {},
     "output_type": "execute_result"
    }
   ],
   "source": [
    "ps[0].speedFactor['curValue']"
   ]
  },
  {
   "cell_type": "code",
   "execution_count": 1,
   "metadata": {
    "collapsed": true
   },
   "outputs": [],
   "source": [
    "from sol import *\n",
    "from index import Index"
   ]
  },
  {
   "cell_type": "code",
   "execution_count": 2,
   "metadata": {
    "collapsed": false
   },
   "outputs": [
    {
     "name": "stdout",
     "output_type": "stream",
     "text": [
      "583\n"
     ]
    }
   ],
   "source": [
    "test_library = Library()\n",
    "test_library.init_from_xml(\"animeme.avc\")\n",
    "print(len(test_library)) # 583"
   ]
  },
  {
   "cell_type": "code",
   "execution_count": 4,
   "metadata": {
    "collapsed": false
   },
   "outputs": [],
   "source": [
    "names = test_library.get_clip_names()\n",
    "namesearch = Index(names)"
   ]
  },
  {
   "cell_type": "code",
   "execution_count": 5,
   "metadata": {
    "collapsed": false
   },
   "outputs": [
    {
     "data": {
      "text/plain": [
       "['Cca Waifu.mov',\n",
       " '8th Ms Team Rollout.mov',\n",
       " 'Bunker Boom.mov',\n",
       " 'F91 2 Stronk.mov',\n",
       " '0083 Kill A Bitch.mov',\n",
       " '0079 Guntank Vs Zaku.mov',\n",
       " 'Gundam Age Black Vs White.mov',\n",
       " 'Gundam Wing Endless Waltz Nice.mov',\n",
       " 'G Gundam Transform.mov']"
      ]
     },
     "execution_count": 5,
     "metadata": {},
     "output_type": "execute_result"
    }
   ],
   "source": [
    "names[1:10]"
   ]
  },
  {
   "cell_type": "code",
   "execution_count": 12,
   "metadata": {
    "collapsed": false
   },
   "outputs": [
    {
     "data": {
      "text/plain": [
       "['Cca Amuro Vs Funnels.mov', 'Cca Waifu.mov']"
      ]
     },
     "execution_count": 12,
     "metadata": {},
     "output_type": "execute_result"
    }
   ],
   "source": [
    "namesearch.by_prefix(\"CCA\",25)"
   ]
  },
  {
   "cell_type": "markdown",
   "metadata": {},
   "source": [
    "so the next step i guess is going to be splitting the words so i can search for just \"waifu\" in any of the words as well? not sure how i'll do it but this should be good for TAGS,, swag"
   ]
  }
 ],
 "metadata": {
  "kernelspec": {
   "display_name": "Python 3",
   "language": "python",
   "name": "python3"
  },
  "language_info": {
   "codemirror_mode": {
    "name": "ipython",
    "version": 3
   },
   "file_extension": ".py",
   "mimetype": "text/x-python",
   "name": "python",
   "nbconvert_exporter": "python",
   "pygments_lexer": "ipython3",
   "version": "3.4.3"
  }
 },
 "nbformat": 4,
 "nbformat_minor": 0
}
