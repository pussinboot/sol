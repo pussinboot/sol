{
 "cells": [
  {
   "cell_type": "code",
   "execution_count": 2,
   "metadata": {
    "collapsed": false
   },
   "outputs": [],
   "source": [
    "from bs4 import BeautifulSoup\n",
    "\n",
    "#animeme = BeautifulSoup(open(\"animeme.avc\"),\"xml\")\n",
    "test = BeautifulSoup(open(\"test.avc\"),\"xml\")"
   ]
  },
  {
   "cell_type": "code",
   "execution_count": 12,
   "metadata": {
    "collapsed": false,
    "scrolled": true
   },
   "outputs": [
    {
     "data": {
      "text/plain": [
       "<videoClip>\n",
       "<source couldContainAudio=\"0\" couldContainVideo=\"1\" ext=\".mov\" name=\"D:\\Downloads\\DJ\\vj\\vids\\organized\\gundam\\dxv\\00 Dodge N Kill From Back.mov\" shortName=\"00 Dodge N Kill From Back.mov\" type=\"file\"/>\n",
       "<settings desc=\"Sorenson Video\n",
       "1156x650\n",
       "15FPS, 00:35:467\" fileId=\"1708657398\" name=\"00 Dodge N Kill From Back\" renderPassOrder=\"0,1,2\">\n",
       "<aScale value=\"0\"/>\n",
       "<SMPTEOffsetMilliseconds value=\"00:00:00.00\"/>\n",
       "<playbackSettings>\n",
       "<beats curValue=\"64\" defaultValue=\"4\" startValue=\"1\" stopValue=\"10000\"/>\n",
       "</playbackSettings>\n",
       "<parameters>\n",
       "<parameter duration=\"35466.6667\" orgDuration=\"35466.6667\" paramControlType=\"1\" paramSubType=\"2\" paramType=\"10\">\n",
       "<name value=\"Position\"/>\n",
       "<nameGiven value=\"Position\"/>\n",
       "<textValue value=\"\"/>\n",
       "<extended value=\"0\"/>\n",
       "<values curValue=\"1156.77195\" defaultValue=\"0\" startValue=\"0\" stopValue=\"35466.6667\"/>\n",
       "<pointsOfInterest value=\"0\"/>\n",
       "<jumpToPointsOfInterest value=\"-1\"/>\n",
       "<speedFactor curValue=\"1\" defaultValue=\"1\" startValue=\"0.0001\" stopValue=\"10\"/>\n",
       "<direction value=\"0\"/>\n",
       "<playmode value=\"1\"/>\n",
       "<playmodeAway value=\"0\"/>\n",
       "<linkMultiplier curValue=\"64\" defaultValue=\"1\" startValue=\"1\" stopValue=\"4096\"/>\n",
       "<linkModifier curValue=\"0\" defaultValue=\"0\" startValue=\"0\" stopValue=\"1\"/>\n",
       "<modifiers>\n",
       "<modifier index=\"1000\" type=\"4\">\n",
       "<properties>\n",
       "<easeIn value=\"0\"/>\n",
       "<easeOut value=\"1\"/>\n",
       "<option value=\"2\"/>\n",
       "</properties>\n",
       "</modifier>\n",
       "</modifiers>\n",
       "</parameter>\n",
       "<parameter paramControlType=\"2\">\n",
       "<name value=\"Position X\"/>\n",
       "<nameGiven value=\"Position X\"/>\n",
       "</parameter>\n",
       "<parameter paramControlType=\"2\">\n",
       "<name value=\"Position Y\"/>\n",
       "<nameGiven value=\"Position Y\"/>\n",
       "</parameter>\n",
       "</parameters>\n",
       "</settings>\n",
       "</videoClip>"
      ]
     },
     "execution_count": 12,
     "metadata": {},
     "output_type": "execute_result"
    }
   ],
   "source": [
    "test.clip.videoClip"
   ]
  },
  {
   "cell_type": "code",
   "execution_count": 11,
   "metadata": {
    "collapsed": false
   },
   "outputs": [
    {
     "name": "stdout",
     "output_type": "stream",
     "text": [
      "0 0\n",
      "0 1\n",
      "0 2\n",
      "0 3\n",
      "0 4\n",
      "0 5\n",
      "0 6\n",
      "0 7\n",
      "1 0\n",
      "1 1\n",
      "1 2\n",
      "1 3\n",
      "1 4\n",
      "1 5\n",
      "1 6\n",
      "1 7\n",
      "2 0\n",
      "2 1\n",
      "2 2\n",
      "2 3\n",
      "2 4\n",
      "2 5\n",
      "2 6\n",
      "2 7\n",
      "3 0\n",
      "3 1\n",
      "3 2\n",
      "3 3\n",
      "3 4\n",
      "3 5\n",
      "3 6\n",
      "3 7\n"
     ]
    }
   ],
   "source": [
    "clips = test.find_all('clip')\n",
    "\n",
    "for clip in clips:\n",
    "    print(clip['layerIndex'],clip['trackIndex'])"
   ]
  },
  {
   "cell_type": "code",
   "execution_count": 51,
   "metadata": {
    "collapsed": false
   },
   "outputs": [
    {
     "data": {
      "text/plain": [
       "['\\n',\n",
       " <parameter duration=\"23023.023\" orgDuration=\"23023.023\" paramControlType=\"1\" paramSubType=\"2\" paramType=\"10\">\n",
       " <name value=\"Position\"/>\n",
       " <nameGiven value=\"Position\"/>\n",
       " <textValue value=\"\"/>\n",
       " <extended value=\"0\"/>\n",
       " <values curValue=\"912.80482\" defaultValue=\"0\" startValue=\"0\" stopValue=\"23023.023\"/>\n",
       " <pointsOfInterest value=\"22963.9361\">\n",
       " <choices>\n",
       " <choice index=\"0\" isActive=\"1\" isEnabled=\"1\" name=\"\" value=\"12847.2128\"/>\n",
       " <choice index=\"1\" isActive=\"1\" isEnabled=\"1\" name=\"\" value=\"22963.9361\"/>\n",
       " <choice index=\"2\" isActive=\"1\" isEnabled=\"1\" name=\"\" value=\"22075.0328\"/>\n",
       " <choice index=\"3\" isActive=\"1\" isEnabled=\"1\" name=\"\" value=\"1220.91789\"/>\n",
       " <choice index=\"4\" isActive=\"1\" isEnabled=\"1\" name=\"\" value=\"593.536368\"/>\n",
       " <choice index=\"5\" isActive=\"1\" isEnabled=\"1\" name=\"\" value=\"22897.7473\"/>\n",
       " </choices>\n",
       " </pointsOfInterest>\n",
       " <jumpToPointsOfInterest value=\"2\"/>\n",
       " <speedFactor curValue=\"2.4399856\" defaultValue=\"1\" startValue=\"0.0001\" stopValue=\"10\"/>\n",
       " <direction value=\"0\"/>\n",
       " <playmode value=\"1\"/>\n",
       " <playmodeAway value=\"0\"/>\n",
       " <linkMultiplier curValue=\"32\" defaultValue=\"1\" startValue=\"1\" stopValue=\"4096\"/>\n",
       " <linkModifier curValue=\"0\" defaultValue=\"0\" startValue=\"0\" stopValue=\"1\"/>\n",
       " <modifiers>\n",
       " <modifier index=\"1000\" type=\"4\">\n",
       " <properties>\n",
       " <easeIn value=\"0\"/>\n",
       " <easeOut value=\"1\"/>\n",
       " <option value=\"2\"/>\n",
       " </properties>\n",
       " </modifier>\n",
       " </modifiers>\n",
       " </parameter>,\n",
       " '\\n',\n",
       " <parameter>\n",
       " <name value=\"Width\"/>\n",
       " <nameGiven value=\"Width\"/>\n",
       " <values curValue=\"1280\" defaultValue=\"640\" startValue=\"0\" stopValue=\"16384\"/>\n",
       " </parameter>,\n",
       " '\\n',\n",
       " <parameter>\n",
       " <name value=\"Height\"/>\n",
       " <nameGiven value=\"Height\"/>\n",
       " <values curValue=\"720\" defaultValue=\"360\" startValue=\"0\" stopValue=\"16384\"/>\n",
       " </parameter>,\n",
       " '\\n',\n",
       " <parameter paramControlType=\"2\">\n",
       " <name value=\"Position X\"/>\n",
       " <nameGiven value=\"Position X\"/>\n",
       " </parameter>,\n",
       " '\\n',\n",
       " <parameter paramControlType=\"2\">\n",
       " <name value=\"Position Y\"/>\n",
       " <nameGiven value=\"Position Y\"/>\n",
       " </parameter>,\n",
       " '\\n']"
      ]
     },
     "execution_count": 51,
     "metadata": {},
     "output_type": "execute_result"
    }
   ],
   "source": [
    "animeme.videoClip.settings.parameters.contents"
   ]
  },
  {
   "cell_type": "code",
   "execution_count": 64,
   "metadata": {
    "collapsed": false
   },
   "outputs": [
    {
     "name": "stdout",
     "output_type": "stream",
     "text": [
      "Position\n",
      "Width\n",
      "Height\n",
      "Position X\n",
      "Position Y\n"
     ]
    }
   ],
   "source": [
    "ps = animeme.videoClip.settings.parameters.find_all('parameter')\n",
    "for p in ps:\n",
    "    print(p.nameGiven['value'])\n"
   ]
  },
  {
   "cell_type": "code",
   "execution_count": 71,
   "metadata": {
    "collapsed": false
   },
   "outputs": [
    {
     "data": {
      "text/plain": [
       "[<choice index=\"0\" isActive=\"1\" isEnabled=\"1\" name=\"\" value=\"12847.2128\"/>,\n",
       " <choice index=\"1\" isActive=\"1\" isEnabled=\"1\" name=\"\" value=\"22963.9361\"/>,\n",
       " <choice index=\"2\" isActive=\"1\" isEnabled=\"1\" name=\"\" value=\"22075.0328\"/>,\n",
       " <choice index=\"3\" isActive=\"1\" isEnabled=\"1\" name=\"\" value=\"1220.91789\"/>,\n",
       " <choice index=\"4\" isActive=\"1\" isEnabled=\"1\" name=\"\" value=\"593.536368\"/>,\n",
       " <choice index=\"5\" isActive=\"1\" isEnabled=\"1\" name=\"\" value=\"22897.7473\"/>]"
      ]
     },
     "execution_count": 71,
     "metadata": {},
     "output_type": "execute_result"
    }
   ],
   "source": [
    "ps[0].pointsOfInterest.choices.find_all(\"choice\")"
   ]
  },
  {
   "cell_type": "code",
   "execution_count": 73,
   "metadata": {
    "collapsed": false
   },
   "outputs": [
    {
     "data": {
      "text/plain": [
       "'2.4399856'"
      ]
     },
     "execution_count": 73,
     "metadata": {},
     "output_type": "execute_result"
    }
   ],
   "source": [
    "ps[0].speedFactor['curValue']"
   ]
  },
  {
   "cell_type": "code",
   "execution_count": 1,
   "metadata": {
    "collapsed": true
   },
   "outputs": [],
   "source": [
    "from sol import *\n",
    "from index import Index"
   ]
  },
  {
   "cell_type": "code",
   "execution_count": 2,
   "metadata": {
    "collapsed": false
   },
   "outputs": [
    {
     "name": "stdout",
     "output_type": "stream",
     "text": [
      "583\n"
     ]
    }
   ],
   "source": [
    "test_library = Library()\n",
    "test_library.init_from_xml(\"animeme.avc\")\n",
    "print(len(test_library)) # 583"
   ]
  },
  {
   "cell_type": "code",
   "execution_count": 4,
   "metadata": {
    "collapsed": false
   },
   "outputs": [],
   "source": [
    "names = test_library.get_clip_names()\n",
    "namesearch = Index(names)"
   ]
  },
  {
   "cell_type": "code",
   "execution_count": 5,
   "metadata": {
    "collapsed": false
   },
   "outputs": [
    {
     "data": {
      "text/plain": [
       "['Cca Waifu.mov',\n",
       " '8th Ms Team Rollout.mov',\n",
       " 'Bunker Boom.mov',\n",
       " 'F91 2 Stronk.mov',\n",
       " '0083 Kill A Bitch.mov',\n",
       " '0079 Guntank Vs Zaku.mov',\n",
       " 'Gundam Age Black Vs White.mov',\n",
       " 'Gundam Wing Endless Waltz Nice.mov',\n",
       " 'G Gundam Transform.mov']"
      ]
     },
     "execution_count": 5,
     "metadata": {},
     "output_type": "execute_result"
    }
   ],
   "source": [
    "names[1:10]"
   ]
  },
  {
   "cell_type": "code",
   "execution_count": 12,
   "metadata": {
    "collapsed": false
   },
   "outputs": [
    {
     "data": {
      "text/plain": [
       "['Cca Amuro Vs Funnels.mov', 'Cca Waifu.mov']"
      ]
     },
     "execution_count": 12,
     "metadata": {},
     "output_type": "execute_result"
    }
   ],
   "source": [
    "namesearch.by_prefix(\"CCA\",25)"
   ]
  },
  {
   "cell_type": "markdown",
   "metadata": {},
   "source": [
    "so the next step i guess is going to be splitting the words so i can search for just \"waifu\" in any of the words as well? not sure how i'll do it but this should be good for TAGS,, swag"
   ]
  },
  {
   "cell_type": "code",
   "execution_count": 35,
   "metadata": {
    "collapsed": true
   },
   "outputs": [],
   "source": [
    "preview = BeautifulSoup(open('00 Dodge N Trasnform N Punch N Kick Etc20154210162174956935521mov.xml'),'xml')"
   ]
  },
  {
   "cell_type": "code",
   "execution_count": 36,
   "metadata": {
    "collapsed": false
   },
   "outputs": [],
   "source": [
    "preview_64 = preview.video.image['data']"
   ]
  },
  {
   "cell_type": "code",
   "execution_count": 33,
   "metadata": {
    "collapsed": false
   },
   "outputs": [
    {
     "name": "stdout",
     "output_type": "stream",
     "text": [
      "failed\n"
     ]
    }
   ],
   "source": [
    "from base64 import decodebytes\n",
    "fh = open(\"imageToSave.png\", \"wb\")\n",
    "try:\n",
    "    fh.write(decodebytes(str.encode(test_another)))\n",
    "except:\n",
    "    print(\"failed\")\n",
    "fh.close()"
   ]
  },
  {
   "cell_type": "code",
   "execution_count": 37,
   "metadata": {
    "collapsed": false
   },
   "outputs": [
    {
     "ename": "Error",
     "evalue": "Incorrect padding",
     "output_type": "error",
     "traceback": [
      "\u001b[1;31m---------------------------------------------------------------------------\u001b[0m",
      "\u001b[1;31mError\u001b[0m                                     Traceback (most recent call last)",
      "\u001b[1;32m<ipython-input-37-27b74731ca7d>\u001b[0m in \u001b[0;36m<module>\u001b[1;34m()\u001b[0m\n\u001b[1;32m----> 1\u001b[1;33m \u001b[0mdecodebytes\u001b[0m\u001b[1;33m(\u001b[0m\u001b[0mstr\u001b[0m\u001b[1;33m.\u001b[0m\u001b[0mencode\u001b[0m\u001b[1;33m(\u001b[0m\u001b[0mpreview_64\u001b[0m\u001b[1;33m)\u001b[0m\u001b[1;33m)\u001b[0m\u001b[1;33m\u001b[0m\u001b[0m\n\u001b[0m",
      "\u001b[1;32mC:\\Users\\Leo\\Anaconda3\\lib\\base64.py\u001b[0m in \u001b[0;36mdecodebytes\u001b[1;34m(s)\u001b[0m\n\u001b[0;32m    552\u001b[0m     \u001b[1;34m\"\"\"Decode a bytestring of base-64 data into a bytestring.\"\"\"\u001b[0m\u001b[1;33m\u001b[0m\u001b[0m\n\u001b[0;32m    553\u001b[0m     \u001b[0m_input_type_check\u001b[0m\u001b[1;33m(\u001b[0m\u001b[0ms\u001b[0m\u001b[1;33m)\u001b[0m\u001b[1;33m\u001b[0m\u001b[0m\n\u001b[1;32m--> 554\u001b[1;33m     \u001b[1;32mreturn\u001b[0m \u001b[0mbinascii\u001b[0m\u001b[1;33m.\u001b[0m\u001b[0ma2b_base64\u001b[0m\u001b[1;33m(\u001b[0m\u001b[0ms\u001b[0m\u001b[1;33m)\u001b[0m\u001b[1;33m\u001b[0m\u001b[0m\n\u001b[0m\u001b[0;32m    555\u001b[0m \u001b[1;33m\u001b[0m\u001b[0m\n\u001b[0;32m    556\u001b[0m \u001b[1;32mdef\u001b[0m \u001b[0mdecodestring\u001b[0m\u001b[1;33m(\u001b[0m\u001b[0ms\u001b[0m\u001b[1;33m)\u001b[0m\u001b[1;33m:\u001b[0m\u001b[1;33m\u001b[0m\u001b[0m\n",
      "\u001b[1;31mError\u001b[0m: Incorrect padding"
     ]
    }
   ],
   "source": [
    "decodebytes(str.encode(preview_64))"
   ]
  },
  {
   "cell_type": "code",
   "execution_count": 32,
   "metadata": {
    "collapsed": true
   },
   "outputs": [],
   "source": [
    "test_another = \"21159.IBkSG0fBZn....PCIgDQRA....J....dHX....Pchl+a....DLmPIQEBHf.B7g.YHB..f.PRDEDU3wI68l1jjjbjldOpZl6QjYk0ceftQiiYlclcVJjytK4WnP9yg+QvePJBWRtK2ky.LB.Zft6p55JuhHb2LS4GT0b2y5nAZL6xOUlHIZTYFgeXlZ5wq9ppAeb7wwGGeb7wwGGeb7wwGGeb7wwGGeb7wwGGeb7wwGGeb7wwGGeb7wwGGeb7wwGGeb7wwGGeb7wwGGeb7wwGGeb7eEFxey+v+aV+eTDvj+Tei+Eby.DCZBfpf0f3tOjRL2puy2IoBU6c9024plj3C7m7g+CeMDr69tIv4CmPlth4oWSyZw8.vpjriXlPKdlEUPEACgVsgnBXFlAojPhzx02.ZVkZsgpBhHnZNtVB62uiSSEFGTlrFRET0+xlYn.lHjG1CsFSkSHlAhrb8GRYDUgVk4ZKd+DxIMd+R9yWq5OO.sl4etMCCPEEUULy+aIUQDAAgRqQYdhlY3OhBM6tWCkkGMHmQi46ZoX4kaj.IQnr8K+dVOEDDUngg1EldeCa4+Y8WEOzqWLY4yTrFfv46OiaOcb4i7CK70+L90Lg89en+SL5Ktr4cezNP41uCqMSacsEqE2Cc.oVP0LpJwuOt6RZ8REq2lHgPIHMCQxfDB0HfHnnHpx7bAUf44l+0UAAEK1vJoDIArVkVsDa7BsGpPRgTxWZapR1pzuS0FzkAMDJPH8UQj2ZtSTRpRRSf3a15ueh.hHjLghHKBUHBIDplQes0t6pdLoX.JYTECyUMsHE+dVjR55jpApHwm88unahwasQX4Soa+MwK89wQNNMwwSG272+yaz3OCoT7a0c1eI9hI05lO.bwNioaeETJToQyNfHYDDpsIRRBUgICRnTlMTUQRBhYjTaYiihDZ4TPErZk91vgbxe9MyErzEIC+YoEZkMAybsq8kspYPCTc.QskMHt.hRNMRoUhW3DpzPTtyZHV+ZUvL+YZYkTz3dkP0P6ceodY2n+uyoQp0BlDe+PYhFqMFrb8yZrwnBZJS1m2Er9tyOvh26HLY86+6+a7VuNqOvefwoSSKeZwe+o0V+64ThR8cMQCv9b989270QItlFnJx1KJrJ7A.J4bAp23+XmHQCE2cAyLbCHtljbR84Z02vkbYh00IDxoDobhFFsZnAQ84OeQ17WTQXiUT2bmXH4ATQCsOt.3bax+6l.x.p.pjVz2nhKInRBjJy3BhZUngqgzLycWvp92gXROd9Sh3aHTYYCRHcGeVIDrLzDXVByBwMCzPanKmXz.RZdirqPJorXBVhIu+RFpnzn9u.ev7QJqTKg9r25g4CI7APsuv9NCWqtPr07sE9dqwnz3btjCW8Llayn5c2wzhuuapz8gRTApMLClqD6T8mlggDogrKL1v0BhgIMjFXsXAquIYwLeHaoJhA0Xg05BWlhnFYYvu+8eOFMy01Vi4qlYTK0vri.p6dPo1bEO0p+bIwyg.ovDq1ETacYy34TkMlS7emlDJM.WdllXngVOC2+X+Ysa90+t46nnRjPg4GdHum+bKT49uzQsrJf7deJj20ahO7HBxo+w25oPHHrnVWfQclz72yUmtjV6HfRyrkomF3lhtycPnVsvjSbaLiu5m8K3691ukooYjRkgwz5KTnMwXMfLEYcdM7sxiYQn02It7rHnphpIFGFYtNGZgc+P6BwMqRq0nVLL0PI7au49CZgTtz05oJpHjTID1RfUoUcc5hInojqYr+cB+7qUeyzpG8rcx1+sMPyZXQR.pnhPlMu3zZuqin++CitaEcM8enOy1+6xnuXJa+UV3jrhfsD8V+h2mD5gMLpyjKujiGdgqkoUw2Ju9015WpHBVqw7xusq8w3ey+5+N9u7O9qY+tyPDiggLWc8ULjGbyNptXpr+P2BMXhAjRPqGeVrqwLDyPDk7vHCpRUbgLE28oZoARXERbglVCLpg4922b65lvrNxx9KS7qEtxECCo4lL0dz0XTpMJyyzZkXdQ69dPJr53xnFHJZ109ZMiTx2f+NZ.eeitOHen+9+RGabu3cEvBmMeu9TB2wD1xWAYQqz6Ufdif9nb.s9RNb7kHZXZjU3HLbK2p5wD3V7z65sQnQ3yd5S3+z+O+WHOLvM2dC04qcMXFjRmQNMvoSmXHmQR40mtv6cKL+YZK7ZpGYgPMAijcseoAZsY+aGBpFFsRygKoQ3OVa0udyWGkjRoV7MgwN2kfPQ.w0RogOdZM1LGQh2vHEAG0ZU+9ZtI3EqxcH1h6a2EnrnTrBgQYLfrI9d8knndOqXl09WjvmHKhXenflgOvu9CoQz.Na2dNtAxl29pItSL24ZzmXAXPKzleAk42fT8cwUpjrU2YEVgsXAsFZKySRn1nVp7se22.ZgrpLUugikCHlxt86nVm4dmcNk41x2Y6yjr84cwW03ljD1q6IkSHhPoMGAo.sZkVyn1pdTmKVzBXapsESLZRB+k27x0uSlgJ4HnhPSVohl5X9whY9puK0M4CjFRdnYFfz74tp+rXzPPHkGnD3btrqvfbUHbusal48HFHVD625n8gjL9fiU0N+46GW+9y602zimNs72UI8delr9N8XzBmut2Xgae8ukZ8JzVgj.X99xVORt25wb4eFZHZVZCzNMfB0xL2TpnIAkD0ViRYlw82yedrl+Ya.RZwjEpuwnQMbEJhFMMRJkHmRtfpjnYUlKyPHPYDBYV2KrtiffoqfrWh.NrvuRIz7pRhggbn8RPEGz4FRn7vc6P59YhDll8mGrZbWk3ZZXnXVcAv5EW6B01ZXRIqgSvdbI1a4qiRyZuWAlODdgu+w6ti6G9iuAovMN3+ti9q86eCwaCcD3lg1OdhiW+Gn0t18Qz8TZyyZff010xvhXJVfRAHsM.rFO3g2mW+5WDYVnQo1PUOvkggQt24mSsVIkS9E5sM0DZ85thXziDFfJMyetr1LkREnQctgYs.D3MWGQgtVKLLcc9TwPzTOdVJ0Jii46DqVsVhPBrE2QLM6AJqgI6vzZqM6l6UMji5JZVcgQwwQtG4UJ2giQHu0M52cArGYyOlnOCsN9rwe1em0q+p4ocmcFSGN7giKOVGO+h6wMWeyO30WADZLJuf4qeNySGQZkXNw1n3X0WSa6+Jd7zdTf82wZie5O8mxu4e9+Ly0acsVjWRKEhPsU4ku40Lj1QNuw2OhHfa2415y1YkAYctn05PwDu5gxNWP0nJFRwHmFcMPa28s0xi5ITPRBzfc61EZ1ZznQpeOUAZUJyEDAFkj+2habYAh4Xid0gOqN.oVhsq8FxpCzlm0DUTLsshC3xC3lI99MPjLXeXb3d6gr7x+mmPaNOPq0dGsXmNb3G76oHzDiiGtgzF2ptKft96cRNP61uialtDQZPa1mXXSDmMaQ6waORKwC3+cO6UU9pe1Oku6a+NlKGhMdB0k3qMzHxPGGrPSsACpRSDZhCr6V2jkjRV1XdOde53.1TG9mVyClvPPqgZhvbt6CV2Tayifd2HsRCqU.KEf8Wvymi6OaJmWl3ZZig9+1Q6FwjHR1Jk57B3ycWzR8DhJx5b1XBsCns3+2NX12Q.rOVMF0WEeaguv1vhuO+ncH7NiR4GJB6sFGt6nmz6sXTKBjUMvOS4rcUJ270b31WfpMTZzpFlPjE.+UPAe2YR9f92lxCKOO0RkexW747sey2vs2dEBCXV8s1yId1SzrGAJtDURSqVIrl6K3VeZVBPUXtLGBAB0ZAxI2+rNtalCkhfuQFUQDiJKnG6ivmKWnsCWhFZzcSmNQEbilsVKPOQiOp+tXVkRwB2..sGJdjtwjlnzp2ACUatvo4.pFMSJ4QIKeHAv+ji6j3werYt8G63GmvsATsJIsx8xm3lW8MbZ5kweqqguwaicd2ik1hieacnWgjFYtv8M5y97Omm+8ufC2dCsZEUTFGGWLYo4UUxawV0MY5KzUyX.EKrJmz6tbTqFIMu.3q0rEMaFVOUEP3CuagMzPQKP2QPUOvkl4Qfm1jUCOXZawmOWSsaBOoqAvYMi45rGWPsRsUVbMokEjlGPSszvpMpMy8AdwaS2u5k0nZEy3OeAPYC7EI0it6+VN5.IaV68FLw1w3tLSSETYlexOMyqd9yX952vqNbEs.FFOmqgSSaHgReXwN1kz0cGnRb+kplhPgGb+GxKe4K4vM2DomSHMHzZlCUxFm9uSDfDAwDzmnalMgCuR0pddmiGspUCPoUpL4vjHMmHHa7U1MHEaTh4J0TLoFtf3Vr5ao19ta3DmPWnxU.sRZMcd9GeMceZRQr98JxAd3BSedz2+IKxMplBfwsP6nrPsrvuGkHdETM4gWu8m9eSz6H7Mta7+lfOs.HhuKJk9g+oVJXT4S+rDGN7872829kb5vab7zr5ZPFvGTgZ2Tz6eXTqEJmtFUG41CWyoC2Rs47rKX9T.XqGkaRxjjLpjhLxrw2RQQMwiLLkbvi6hG8mCIgU66WZLniNiaVtOBRJ4+nw0mMJIRJBIFGG8myPYdJBBecmXyC.o0bLHcG79vqI3Z5Rx5KcKBYWRIXHgo98VBmXE7MW9TosDb6JYDT+hJjQZtID6sbsq++8s8OZ5zzGXQ6+ZL9yy7aq03rzQ9k+heFWcUliGtgimdETZLLNRRGvHcm7sd2Q5N2NMkB3Urvjqv8t3Bd4KOQ812f6aWw2j1Imo4BGZOJxMtt18gJIBBIV.YLRVOlwv3.ySFMpQp9pf0bkArQCslApcSDKvgHpft.5tGHjJhmYkbXCHHV.xFf25lX2fCgYQvLcshcqHAc8ZATSq2MGNBQTRBTr4knvua7Ddb7Yxt6DlbWG3LZKaRCl379Ghyks+aUZiU0yJfJuG+KW.Gy80IYFWLdfK18F9m9+7+cziS7O9e7+63sYlKdv83voavZGPrB0VkZqQqaN9skwE2eGqUCy+Fe0W8Soi0aqUoVlbVOKNamW37wFSuau1pptS7ZFKoXpRJ67ryLXtU4zzIOcmUCq1flgLjHoCjxYRIO.oE+GV3qlmprjlHE4osVazpUbD7ZjSdPLtYOgVYdw0DQ7MbY0Y8ry1Y2JWRSA5DsH.KGRoV0M2l5QcWcJvzpElmlb7v69OtbSXgZzUpjGxre+NxRDxkEPQrU66GT+i4Qt9ujXe0d.WwhtnN3tU6sbPSR28KF1R7zWcI1seGW9pWw+v+9+63ku7Ub0adETKreHwLYWyRah4iSjIilGIkGwBSV4TdgMyMHfhoEa9T9zO4o7cO663vMul41MfoNcrvi1T5Q2pNSRZl66lXJobWShQRFhrR3N9WslyKuZktd.OIBglzj39Shf0TLYkmeyyERuMUwpkkHqEQHMnteqECzxh+eVvsJQzMPU0fTNL8GqOhmkkVM7KTflUdGJsolfEe2ZYFRt44NBChpLLN5lckP6ey7fkDirk2rqMh.ZYrAOs22nOY9mJHg67cBgMoij5lqVcapG38Cis.j0YX9ULc0ef45A9jm9I76+s+d9zO6y3Ye+y4T0gIURIt9pqcxTXFUAzHnld5op0JO3Q2iadyknRhO4ydLe2298HC63A2+97xW8JNd3VGBjlt73kRIT0m3Sglut6IZr3Jg+bRZvSgUm4y3l4pSk.CROPFQDxCgpByhTh4+SEWnnTqNLFqq.QfvJ0RkdRC5AvII7ZOQ7MLZ.0xc82MdGBS5FdtksVCI4l9qUKl2VglAQHE9fZlQsNizfFyTEXXXHnNlhJYDwnTZHIgjNPypaHj565XzpOyRxUA+ADntiCOu2OzF1Qr8B+dtmuyWsYNasAxbfw50b8q+VpsovgV3wO9Qj0FGNcfW78eKkliy2id3CWn.9M2bK05lj7GQcZFr+h8b6ga3Kd5mvu+q+ZTMyt8Bu4pumSmNRqYdf.iitIJhHD0A2enVMf.QCCcxRlJR5fyot6jSZCosQ8uup6TcZQCThjlYddNDZXAzWIDP60ThAXMmILkZ0sRzBVHKAalh5IIEjIMmzEgv1cH+PjO23eohi6HsJIMgLjW03zS2WynzpjxCd1THwfFq6h30TB3ACkjPIXcEGvtuVtyjqjmbQsM7tlBeKgMQjE7pd6gFQ08Wxvy8Xk8iG4Me2ulaq2xB6c0FWreGO64eMO8SdBu5EeuS0nluyeeNwkWeM6O6Lt37K3ae126rFQb.U+zm9Ib7z0bX5H62ORsdjR6D2a+HWd4kTZk.7UirlBHKZb9t8b53AhBeacFwbzaDgHkVAssxIjRjJsPaUNzf5XhU7Hi2jNDSfpUB1GCsZj7+MAHrdqMbB.3Oi99qt8UeyQmZ7cMyppg+taWRaKwF6ArspoKOj7H0CKdh3zqpYNrPYOw2LOWVbSpCxdozofEQT9tOvKYB4cz90e1oCew6SS0c+cqKDuGMoumu8eNCAirV4vq9m300anVuco5q7xnP3oe9mQVpb7Xgm+BGv4VyS01288ufGbwCX+Ymws2dfwbhoRCQZjSIt7pqnTNvfU41qtlWTajF752HkUlN1Mo46jsvrnpdp3dxie.u3EuDTmNRhD.JHAKQhRtrTw0hGOyiCZjbeIhtMLUuD0WPvhZEHQs3..6pIcgS6sIObW10.SZXgupto8VnIJil2Z8wVHdfGzgRq11P.kHR1MPTUadFSRpWiNhpTaV.hMgOVt7PqYH0BVxu298.r.NhTJQViHJe+lOkOnzitAY62djSdMt1rFYMS88Tuu+PCAB76tjqe0ukS0SfUPrpySY0Yb64W7.d929LdxSeHu4MuIRmai57IDsRSf2b8Ub31a4oO8y4Ae0C4YO+YLcZ1SWT6VZ0Jiim630MLvSe7iXddlCGNt.kfpxRNQ2seGRrPse+Y7Ie5mwad0KiIdChhCpZUjVhwrx3nPoILGbtozDxpWZlkxQDbHZV0tzhHXEvpXMPy8Tg4X5I.BIRojSMKy.qRRELqq0YlAIvOLAioQNUNgJP4NjEve7qKl38qeRW2fjRtedNzdsXM00nmS5R9u2FboppWYdd5liXLxq2zJAk7eerP8OWAk2ynFj6TP9QK7AFC4Sb5pmwoaegS2HaZwGFnm+Qim9vmPUKTKm3UW9BZsBVqxbsfzfjUPP4Ty3ae12vPdfG83Gw28sOK.bEd3ieBkoIlKMd5SdDWe00bywaiIakciiHhvty1wwaOhUMFGFY+YmwO+W7yQEk+C+G9+fxbAnmCZexYLqHocLj2S8zQ7Lt4weWmanoBcfckTBZUZU2WptyfSkYFB+vVHp5hu4Bk4xRDvsVv2uHmsNbJtST4TliSG8xmDHGoJrqYKE9GKhhlzv2uJknlPp0VmRQg+rVrgwq1ubZ.OKGq.H2g5REMztKKjyHkUOHj+RqAjFs2IKvRm25+Yazsc2++1Ax0q31KeNyy25IrZgFR9KmHJpAmc9Yb40ugKt3Ld0adkuHXUNUlBGg60RaCLWv3vwCb3aNFyOFWb+GwzoSbyM2vEW7.dwKdAh4UPlfve0u3uhW8xWx426bfFCoL2dy07hWej+W+e9+ETQ30u4Z9rO8y4O9G+ituUlaYHIYP7zyIRG7Vb1lXtIT2GSeQuVpNgSRI2etZ7rWazxImYyaPkn1ZXUmM3dIbT2X4.27NFVcl4p6CYS1PgpVGGWyumcs8hi+ZoUhMFaCdZcXVTjS3+4RHXaUw+N.ZxPizDIlxvPNzdHQYNn+3IiP2I12tDLELuDu9Q4wmhQEodDscfoCOmSyuwKT56bOUTqQSTDqwLviexS.AlOcf2b4kN.w0Zv3Xm.jiYG+I2mH+QSMkyt2YXXTNch44It2EOfqu50zwHQP4u5W9WAhwW7UeAu9kulCmNRoTn0p7jG8T90+leMo7NNa2.e9O4mvYmcF+S+l+YGT2HeW0lCT8goizpkEFEuj5yRwM8qxF74be2awbvvPmeet6EMyIRQOnOWXaSzvceJWfJIDZkvsoM92qRuRaBgcbjApkRvLM4tAZsIhqddhqQPUKLm9ch0z+aCCitVW0AEmHY.42Ahj9WKEu.uSs9tFB9cGeX+EuyWcaTisJsxaPm9VNUlbyC8zIYdOHoJsdca6JIEky1umqu9Zt24635at1WTaf0rkI484y3y9zOmat8Ft91q8mPE1MrySZdsQoTHmSb35W6NpGuGh.y0IxRlS2bhqu4JNNcxgynBO+EOmGbw84IO8Sv.1uaGO4wOgRsve3O7GVsDXFXknh05bKd07Uedziv0Pr.JmjRpoTKEu7L6ATFSvNdgiTllw1XEoEZ9bSSMGKNcvyKrJdIZt3noGPghfIywyRBI.INgQs4L1QUm9DcvGBckQNc2lC83ZqqjhHqImvrsBxLj1Ee2HtibZoXgWBg5NxYu63uzXZ2bEDijNw7guixwuMLIAFGWRQTqybSymL6ffh4lSNe2dNMOyquLHcPkkFED3Y3Xb7b1e18Q3Yb8sdoQVpd8TnHzZMJ0402KIz1JIZkFyxDHvgSmV7SNkDdvCdHhHb53IGmwTFSfe4u7Wvv3.+9e2ejhMgIBkZPKJwMsR7L16VKMoRxhR0T501qQwJQ6MwPpt+RXapMmlCH87zJsnR80rkxGHEYfXv0dWqd2bPjERCuF4cWBHfxVEzlgY8NXftYtJvcLk7J7Sb2blqyqavPhRVvq+EQghUPaAeECNflWu08mhOfj2GnqGHpS7y6PA72Y3OfXMFrinxD29xugx7qXg93gCsX9Nsj.4N1hlPw.gF47HBS7hW876nDdt5sqBIpYiyu28c+sjLO8oeAySyTpSLMMglSNoToa94sd1Em6a.b5XOw5Fe0W7kPV4zwSb7vANd3.62umW98eOe4W7SPRIFG2y7zQRI04cmYLEcvIyviVry95jtzhS7ootgv1B9ipjb3XTeGXCK7uz+JCiizZPqN8NTyr21OlNcDQDFFyQwa4WKq5BAxRoXpqzxxfJED0yjRaCYaEBtBntfZq3XVpKYSYE9tt4+TvcwV0.wszMj2+19.9Cnc6C7mL6GrpRfVv2LJHSujqu92xT4nWPxAdVKBuwCqHq0cwTYZ4OY.iiJW7fGfUp7Me2yvngUKKT7oGe+8N69frGnwye9ynIIW3K4Dp7NEq9V3zLOJ2V0QpeZ5DYMwv3.u5x2flTRZlO4S+TNdyQd42+Brlwgatg6+vGwgaODjB02XVrdtQCyU34.kjQJkWhrsS.fkbyGc2nTNEcJqo.KvtpN+Z0LiFEmBTFzAS10.ki91hQY1gyo485sk0rjlBL5lcxLXd+hQTHqCNJFlsv9P6s+uMiZnMzK40P62PZYSTy7hzJqQE4EtZLN7WPPH+XGFF6kib5M+Vt8lugpDkzHKth3HJJc4u0J5pDz3tOFxtiru9kd.Ch3zquTaalQDPUxiIvJ7ce22vsGuDgli9tBVo8NIUmTjAHwIUZqXTIxGJBmlN4A0zbJSMOOy27MeCMZb9w6ggve3a9NGjYyHkhLGTZzXFRNu.SpDYKHl.LC1nAJkRTllif8znAMr0BUD.RqmuYHYNQUqQYH3yM8z2In4DipxPdjFsHkj1BM6QrHu19WOIYLqw7TIRSmm63kPLEAMk8TrEUNWNsRJCWKXcY8MKYrjCMjFgcLjFvDkb2tO8K7OFTTtif1cBRBwLFxSb4q+0b4su.odhDFIKnidj6RP79ihFoGxB+PMflC3bs4QxlzF62uCIU4Ee+qbSTVcgMKKlkRiTqSXMgat4JDwvhsv0iknJkbllre2dJ0hClaLZznRcoqPUsJl.kVgLYNMeheyu9WSkFZKwMGNvsGugggcTMmnkHNE56SIoPGRY18ALIYpkRzwA5USoikWUZjSCfYLWOwVdCZRWnp6qUbODkjIXJdk2It424RAokBMrE2uKs22ajHkXQR2Tg8C6.KwsGln6Lo2Ss7kkbJGJHDDMQqTf4FXchnJNdlVZQHGTGdKQCfnc3zrFjM54p8sKd3ebCAOhI2GtYlt4q4la+NNNcq2CPV.n78DEcfKFAqU7lBYTeFgPv4mcF4bhqt5Mt.INgMOUpKWSewT3r6cFu30euuXqQKrXIHkFPhcCi7oe9mwKdwKnUdqW3hKr0EFmKETQ3Mu9MTZkdBt7GcwPxFRUXtZjjPPJvdSPPyiwUx7OOQaQKpTLI5z.4nP160WqfDcsLaS2Tv71fg4ZBmpd+fIk79S3RiWp0blyHJspgpMZpxPJSJm43wCjyYW.bIiOdAEoDzkxDOh7zHXFkpC1dOJVqYdcqLj82i9RqNPuC3zyXco3lnyImaidi3ryFltv2eABdKxPl.xL10+dt7x+HTtx61pc5fGZ6Varf8V4puTphmCVq4Uc0hV3tyrXbuyuG2drxMu40fY2stTR904K9xufGbwmQqAu90eO4zD2d6UjyILSoTJnhRNmiZI1oF+R4Ozfat8FRoDCCCTqMpkBmBAROPf0MOYC99u+47zG+TjVAzAplW0Xc+XU0wDD7RcDCRsvgcwycsHN3rMqgjzktYUSvAgNXHbhbHeYfZQa9sCp7FH0BfnWHFZXxu1ZTNbJ51B90JmxKkKj2N2h.K69EYt17jlXkCyFsRgZsrTr8BMuiwlXInUKx2sptejZJ0esYHu0Gv+hE977SNvUb0K9G43suzq6TbyvsXQaAzykFdnqMzqeztPP0a2YcYJcs9SFxib80WxU27FllO4YWH7kAsWTMBu5Eugm9nuhKu5Fd3ieJGu4fi2XqDrXN7QQDNbqWz6VcsdHZQtWqsBSSm.wIeau8ythemEzu2eWt+CtO2b0sdjdyAXBIIJGSVZvjcSwFM+6admKUI4saWwaEZlz+NaloCvpsnsy0pF4dfIcTDBaksVE06QUQ8U0eNZnIuqllxtF24V0IXQKHjroTlmvPHqIOJ3VKXDi40pRywITztI49vYKQmwL.XMukCmxCKqStHPkrtPtweTxbAaGJrSOxye1+YZkqQKy3qSwjDNlVlsFczh+Zl++z8ovZsnNA7O2f5vQPTlg26dmwu+qeNMqDTDustyVfGdwS3AO3w7p27RRIkBahW9R...H.jDQAQUYBN0HkFXb2Eb73qcSzKkOXzzFaV3OhK7MfWnO05j+7VajWhXNLqHDzhx0vnX75W78n5HVNBCPSd+U9C4PcnYrU79tmm2zFoznC8QYFw5c3fNF.w+URqU3dDMLRp2PQPzdId11jig0J3HI4fQ+q8zuduYTD7RNH5wKsVuTU6tT.VD8sqjyPpok5UVvwerSEqZsf0bCwkHUpN.HBymJjaAx2+YJ2QGX3T6DSW963laeIsxQZ1b.ERaQC3hxBw38iiXHVZdm8ryHZQfYa8Fd94mwUWek6WT3.7V9wp.e5m9ob31Fe4W9KXpT3A26d752bkSlyVAwDliLsjzDe4W7SQZBWd5MLjG3O90+AR3Lbd+nxsGbe5bEvJIc0b+Zzf9yXC3xqugm93yBWQ5Msa+ct17tVOvBzD8MwogN03EpQCbTSJykdKK1ipWR87LuRfTsyr7tlFoF4Pty6On20q52aAmFTRpyeyXDch8VsQ0jvG6DdkkvBCbZw5nrfFTlbVWHBQRk.xk9B31FJhs9rKFUVxDxe5QuZ7SbK1UeKSGdoqBtdhAlvarYdDoYg.lEWxOE9G71JCTMCVK7OpQhZT3zA4OitO5idvi32+G+MH5Dsl3DAdCIdMD9s+1eMO8IeIeyu+4n4A1OLvO4y+Bd8U2x2+8WijcrBS4L2+hKvv3vTkqu51vTmwnNvW7keNO669Vx61S4vg6H38NiVKruYPqxCe384ku5Jzz.orx102Uq2g3qUoYETxNe5lKNmAUyiNV79GcJ6lX03eucjRNrMBIlpSTlMeyemgKIOnBopKsYswgQzgzxyTsTnVpzZUx4AJ0hKjYtamhBpLfD7HLY9Zhmb.CrByk0touf38ga082tEJQ7hLqGroPIdm9ShCnGAYkV6Dy2963lqeI0VkcoALNgYk6TgYI5Lp1y+oGD96mMzchCrFPb.Q.D85XOg4O669ijCFrYMuCldm8MlAkYd42+0n4DCsQt7V3lqulggA1kDlafjRrebGmNchu64eazECbz7Oa7L9jO4SXHm3K+xuhu4a9CPVYt79D.u6Nod5w9tu4OPZ3L2Q6EdhHKyiaiqpEyMspuw1BsU0VwwD0ZdgMoCzhh8Y0Rk5.SSziZJyTKddgUB.fEywJT6DkMz3oKYTdwhRW.Q1lQqfBX0YiwbAIkbs6QT8VqxX39YsB4wQFGFC3Yl7OaaM8nh4m2KpZKcULQ+AZMGdLBUj1INb8ej4q+VuTEiJyet0PvaQCtuuaAAjUyEVaA5gsiJs.Sv6tlVs0+g.7nG8Pd9K9NDIiUm7zG8Nh.th9dc21hTxgU3vQOSJogLimsidtuM7rLTKUllNRVRjSQjmViO6y9Ld9ydN0fJ789M8ZtNu6PAZyE1cVdoWR6DqnBRZA26dWo2rHWsKuIQ2q2c60C1PgRYJ.olHvqkfm8+Vwy5hKLoNitqFl5qSXt0DO3Ce9tVqAErZg.ZhwwLk4xRqpwhLpnpRyf1rG.2YmMRIX.s2B5xjGRjy4UWNLIJNfBV0o6kC2jQJMRoVXHoHog2U.zCtnxNclxwug275+HykCnc1XHFZZvuQkdOVosD9eMlgxpm0gj8VZ+h0tkJIqSKmjyt2Z2Qyf4uMYllLsVnLgOWoMRfhpjyqk8XC+5IhByGY23HLHuqd3toJQhFIYi7h+Cd2j5o267EQrSmNE9hJrw69.RgLm+f66LGF+P7w8QRWDXM7hTpVlV7eqVlYXXm61RYh4MyQqyUxBZJpJPqPN4.Yi3jK0pNkm.nPEMM3tbrYdJqDECkEBhtkqzPhVoxboD8.mdzzD1g86+vv.kVeunec79MyX3hQKpQDkSGtAS5kXZhoSGY2tgELMk.z50SJotl21Lkq+m41aeIk1wU9kFMmGUipIqV8chZ+.rYERDD+ASadwmTMB58z13AOzJMZNg1BHU.QSKlKt28NmW+5WQBmx2d0ksoIZJfjxjRIHRqiIdOWoTKAaWpddnMAavq8XW9wK8vR4DUwwc6ku7k7YexScVDasnBxRLDemgyOmc61wKdwKv1z6XLyX+8tO6RYlsF47Fh4ZBcGVE.qLGSAIpATGzbMRyddB66phfYLb.56WA.KNjfhmur5.QWfneMmn2XqSdXgtA2pgkJNEoLvrY+PlozXpSsqP6qr.Bcz1OLvTk5bk7XBSx97skHkUDIg0JTJEDLZR1ccypnUmS94gLIYDCi4RggDj6L8nMe.leAy29Zp1ahykCyajNBHkdzKNwxKZK3mWWB0EKx3ZAEwidqUage.5pvWzVWUUWElV.52I0tHvt6siKutrF0XuyMXtfunZPNfHxXLRRh4ZArFkluc8T4j2.f.F2ump5StZEpcG2sLEalSym.Si1gWlwjxjYzTgQM4zUeXfVcBcoQRKLFpZ5oP6tgJmBamdT0oznS3Ta0RvwooUfRhtBQq0bp5GSwRburfXqdCApvbCZCQMJ2CWk0XPGDMJ5cCI5eeN4Hzk4VjVjeCGhkrDGQOxJ28rV.cUs4vvnN4aEDZ0YuhDIN5JDPyYO3pVkc6FAY0faJ6P0kySWR4zyX5vKcJaWJTqSTqsvDhwfXzyVUo3bJa8Rsgv.FLwbzLBaXE2+OumRUVBTI+1djKauDFXUFyiTmbBidZZkoyXNYY07PnUIn7CNFZk4Sq04ZjeWMzpVJENdZlg8NKiOc7zhuYl5JMNd6A1e1d2Ti.SQR1SpfE89jO6m7S3Mu4RNb8s9lTAd4atjG+vGARkroQTi6nm4GKkf4RX9tDU0VBYole23mo4yCZTimdETpKvfYhCTcuO6AqG+AthynyQDxVr.ICgSlCtoXEZkByA7YceiWlnknHnhR0sbZlzXFiTj9vEB9izLZsDsxDnIxYOwBV0Hsajwg8aVv8GJypjN+7y9UkoqPZSPyooTsTb8EFPyYA7hppXWsSMb2Tk2Pq2zoL23it1j3coiKlrPsb+fDnSg7UoPCiO+S+Dr1L2dvq+1RbDDnoQzTdo7HcEHdtWqsRvflfkGV33cH.1Phd9hiEWoNEtO3G5dNe0pLM6leu71aPLgzfy7CMzb1pMF2Mv+t+c+63ad12ROus4793XvBTc.BXI7rrDyOcpcKRzMRc.o6Np2ivnW6t4jiER+r4ShmwkL5DpF68EvNKZ5VEzTJ5UgdtZ2OtKnXkCluYdsN6Sig4V0KoSOmstvcs5qW9w.QcCaa7NXV0LZwgliFG5MCIuSqMraG4AY4YD7tnvgiyqJibeBLnVhX.5Jvi57ZS0s0DuugkLnIq92zG85csYts+jziHNL2E1aUQbbunQNfuQU0Kp6zLWdyqcSNUibNuPiqkuqrFHfUaLayQ6PyiH0P3y9reBO+EOid3cMCXddgpWpAVqPSF7cYlQpLw0WeBCgSGNvoCGHO3GzLW7fK3y+IeNhJb40Wwe++l+d9O9+0+QOlu4aQSWvPHv546FfB04l2J1h45TpGobD4uYtIvHyPDURV1SjNDDOH3K9l5BViJhSVXViATpDQZFEAUYFxYNVKdZBifEEbFPYZL+GTCyLeNs6Ig0lIKCvxQQakd9spEOaWsYmk1d2lVnNaLLlh9acdAACvXdpgnFom7vc+Jgh6SQzQnTwPE2wU++59GPy7tNPDqg+BrxBh6XVEVfXnWUagnyFMcrjGWMM3gxqJO9QOBSJb8MW4WgnJ05h58duxFQdpAJ+RzffPLd7ieB2b80dyQjUebhsQwUzqiDW6Zhc616WGyHONrTVhNwYab6oC7nG7H.MvkS3S+zOgW8pWwT0qK2qu8Ft7p2vEmeNSSyb9Ymwt86Xd5zhebtljFXULIgUmWXTbJNRr7lhf5sCCgP6c+w2ilTC74TUYbbfbjRNAizvH6FFASwhNjU2LqIJ9wtZBIHhpFMsHTo2.x.wBhxBK0Pt0Wacsv1bABsxl4cA+57Lob1Ybi5m9Son9jKUVp+GULvpyH0YRzbN6ggREkJIqRRpjnwfzHqAYbZMxVkjYKemjYz6Bogq2+v+HFChCCxxobG9gW8UWdsGviIzOThkEyBR2VSHI2gEwME6w.nra2.me94jG54hw05LHJ6RYFzDYTxpxnjXLRVtjRXoDhlXb+NTUYX2NWqiwpIr34sYM9a9a9qAQ31CGnTm4dO3b9xe9OAyl3zzsbysWhUKa1c5lzlaFk4dZ2xXQdosnkWH4jWzRE2YkVP+pdyerWf38MCGKyw+1EVJ8iZgEzWbb+Dom0h32khxoT6OdgCjMHYRXEaCzShSpWKNJYmpMlilbondQSML50WSeSeq0XtToVNQuL.RO4gO4W04oVu7y5Rmzmh6r9P5npuxtpEAg3G6sNAqsM+ucUjqeBIf5v242ZMt2Y2igcJWe0s.sEnabqRwtNyhbwuxtEgnnnCsi+he9eCu7EuhKt+CoVAQSjy6Hm5GSVBh5DH056j6Np2bZqOjFHI5l99WzI.TkcmsOJV9H+lhv8u3Ab4kWwie3iQRBCYGzUmULBO3wOhS2dHXlc18sCg7vvRR5GRNFpkFjFFPvYlbwbeWWYySjTeyINaJMvzwCKffqobHT5eNGHXhtTkxZDJArMDkAgEafMco9d6COT.ao9ThvocsjA2CSiiH4renYqigKpBUa1g8JN81C8E8dCyFgkMs.0EeL1FUw6YziN6NYH3NekM3fAvFHgaat+hIb98Niqt9RPqQcQ7t26ETNBAWPQyB6xiA9XNW+d7ieBoThy1eF1s9I+isvTGYgxQh.Ci6ImTlqUlOMw19E9RqNKBf30u9Mbw8efCzdxSYUoTo1p7k+jufKu5RRCJey28Mb9YmGoXqwoC25MYxXgNoJ8zeXhahKk8ts+P.hqUZz6BJK0OB89IsOilPnLczCX.uuvz6mKFDEGeWiwlQ3mYa4zRWh.Ph4VKxlgwR.RUCzJft5xybo3UH2f2QGrREcHJM.blXac4Hq5bHHBdJWspSvxH2cfsb374ZA+S0ZM5lBrMmOH24u9AGoTrCMNEfFFblzdZZFj3LskMAa7V4N1wwJzFG1NDw3K9o+T9ie8WibZjyNaGii6hFfoEQK6U8VJ3w1tgwkiNpC2b.UMrhPaXs3s8ZCwO9op0JSmlPGbfYe4qdoSuKfG9nGx7zQpUkww87f6+.9c+9eGe4W9kgbmP4nufLn6nVl.TjnUYX0RP9TO3n4P.Z48NHBPJzpEU1qysPgkfF.u6IfYQ7WCu05RpGcAt+v8u+F3NDVN5sxRZgGhcxKa304A.C5pqQsPI.DnQzy+bckIP8pTM8fG9feE85Btq9cM59evQmWos.xi2Neua9ju0KutzdvDQ7nFSId7idLWcy09DaYBKHzvaO1u+L9pu5mygimPn0UnfY9YP6gquFjDmc9dDU33gSADQlu.KB4bdgZV4wAn03MWeEF0fV78TFIKl9J0l2EBDOckCCC7rm8L1seO6263bcZ5D2+9ODCX53QlJydWDvD1s2IA5wi2DnLDGbfcSeA7LcOaHbp26XUaz.tsWwDtJ0oruHIFxdGUcYmpNDj2v0X1Q9.HPpnqroK34ZtVv3K7QbNZibRRiDVaTp97PJ6ahSYkggczq.P+Jt5uZum6LLjb2D7CQkMdk0cw3Ogvm+vuwb3Ov2vdqe5ij58IOLic61goJSSmBFLK3dHjARzpIJ0Dho7f6+Xt28tO+q9q+a4u6u8uGHgIIZlPyTz7dOSIw6w3NOuomlKQR3w0HNLvbqvwaugWe8MKtRHRfMVjRQunnB5CkFwL3laOPs137yN2IPZb.QuaXDTXd1qqkau8VRpxkW8l.IKOJwRcx8crGPEQPVh2KnEZXkJySy9FKqRRUumBJNE+0dK9.waYxs3r8fnGLzObXrMQOWiFpY7K7LaIqZ11rBIHtOiA837CLQVXWSsYjGxnQQPoQD7t.qtbMDpXlyrPukoLPJsywxEy2MqV8N27v+524mVyIgPsrt66OgKhHjPkLpNPViSyGE58oXCgciCb71KcsK0pGcUy+oVWuECi2i2b4sdjwIkKu5.kB7W8y9qgVh86tfi2djrpb6MG35aNvsWeiehUlG8iqzrCUQVSLpYlJ15lNwyrwCu+C47yNmyF2yXJSqmJxg0iFvS2b.IKw6Qh8mcVvl5Joj+uwXoiB78e+y4x2bEmewEzL2o8HMG90tmUDDGZF5fs6G4ARRQSrdjJDY7PU+P+q2gV6PjzhCHPOp5fENp6G6BvXRuXzjktuv1nBps4UJUEYfx6PrN309AXs+UzbNbEPVhkvv3To47APEWHN4tMHhR1O.geONnBuSoyZDG7I8O66wmu9ntfwlK.165A.AIKIhhTPLuHkeyMuYiIcIZIXqQNKQjZ17I95u9qQyC7lKuj+9+9+N9G++82v426BOWtCNnsyMuoZ2SkVoL6jmn+naMz7H2eH5ToSSTsJ26ryQznQlKMFxiNX0VwOU0BUku45q3gCOz6Jpu0Vt7XlVzal2sajiSS7Yexmvqe8kbyUWyY6NCMeFsM9Xu87hy6RBAvzVEQ5odrEmzQYVNZvL.Ihpt+u60JczaVHDMs.ZEu9aiRkTxXVg9QLQOvL2+5dzXqTBqFrgQGG8qqwly1NaInoFMuNWr1ZOndK.tBj2k2wzzLqXd+1Bcl+vE7Z9OGSy.aJsvTXlHTcufng2QlpUgGb+6wat4R.KJzbCSR2oTALfwgAO42CN.ukimX2tcTJM1e1NNcxO9DZznTpAUj7HXKDDFP.wVaEsH84KCYXfQYL5Uyg1iP0X2TbJkIOLv77IDU41CG3hyNCS6PjrYRnAimMhUcssu50ulwwgHnf6EtY3PhjzLMhtkPHMlEuoQh.sv2vVquH5M3xtaM6F2soWRuwRVrRKwuWEnot+lhoglvMjLL1XdWkRNW9PchFXkZLG4SdFBxfCkSG7N+94Eyj1i5nK2EV.sZC8h68Ib19G5BX2M8BQXysOHil+gFBx678VvM17HQ66Ku+E6oNMAM7yiLLTyQWmEBn5rktVmV69poLe4W7E7rm+LNcxCZYtUbe1LWsemHjCYWCgsIg6djYQ1evweaHeAHC9mS7JEqFkI5tTlFd0g02IUOU3zzLsVyC1nZP0cbuzJnYk4xLBBCAAJlKyXsiX0aWh5yDGer5FXvLyVZhQBtFRqmRzNpIoDiCC3GYDhmtq1p+S8fYv.qToUpNvFUVxELD0rRDL4Z68nmkpv2NCmFdQx.ZlWZl4vDd+.rXw7azaG6DGwudrj2+lYjmqPJeFmc9.mNbCMl1BE3xC+O1gikjv1BKLNBNtSbXhJb8sGPP7BDuFfhGHk2RJC.nIumszqrJLrpCWyMWcClXLOOuNgGQ0i3kzYsUPyonwMt8AM5ZmwSTRmwjATCZQCUxOSyxHIe2OIG+uZja1C2dfdmEE0iJWZPmrY6NeGmlN49eEvm37eTifF7zGljdjtofnF0Eh82qNNU8zxIKdBzSvu39o11nIilGbVofETLymycsPXPqTIM50BReyvJtmoPSoyj65brZ16b90RDIqmQo9oSeOVaIN.bVmp8lKZJIK8flNIH7cR62Cx3BMfRZTytp+yam0ienQChpbayXIdk0u6id7ioVl7SvnZEQGVQ6eI45BmESRBNqWrVge5O6mSYxyZybYdQqvxP7Hsa8HvdOOx8iQ0tyEF9I9So4s9WKnsNh2A3yQuRVUk861sbct8labJsWMZE2WKMob99K3W9y+qYbX2hi+K.6GI028UtiGpGblpKGpa2w0m9ZRJmImbZOkFblzTpEuzvrpm4DbMVdPM9u2g50ERMEj361Mku3wsrAOPy+QDEKNmQ7yfjL4rWTT8PN5qvKMioH+xNuBaAv6RzkHfbscIRKSJOfjSb+6eeNc7HEYJTQ2VpKzsFTMfVYsjNas2RX6NexMRDa+KlQsdfoVgxTIRk15myvM6nBLWg9wqP0ZTlK7a9m+m8t79628U+YNnXtWQVN6d1B1PhvuPhCFl5Zu6a8w24Ym0b+zvhZeUEF2Mtbd4c7lCbTHv3zWL9Ye0Oi+ve32Fo6h2Bzf3II5xACiiLMM671rDyohmy7tVkJ3fCWpKcadLetbAjWws9zKgxNWJWEvbb95j3c8woqXYUf2htyZuoO4oQyqZugrSfCuwj28KcsYB3sKuMG4ZV7bEllcVyWJfTW.k0LGn2ggc3ogaUEp+LpQxrUxCiaHFvc+bqKfawwos9CvCd7ELWm7lKtPz26B.UM+bnHIBZdveYinmqkHW0shmBr45Zxy29rFNEKI0IX.aKAH+TIeYdWcvaqlyz6dEFzZVzwF7RPnVlwoXX3eitBJrWSDtFzVHPb4adMWe8M2YVT2rao15cI.Gn1bV85ynVbsisJ8lEgzmOiQq4mIbsNtdACv6lj8hQZE72NG9plC0Uugp28qz2x7VVJZgvMMuUZnBhlcV3zvCNY44qa92IcgF45FbytCCq9BZU+.sImxdEa0lOQU8ZCMkSb9v4rqriat4F5cIszczzHTqybGUOKR5qphe2g3cBMAT7iof4oRTnQZbVRJ2IAfhD9WfW.6Vra6T0m3aXvby8wSVwUK0qYWVONSoefBr8PggMQN1AdteQBdQ1IBgY5xYkQVbSIiid+DrVqAU0WEwt7labhmF0P777b3qoenEZQAgaVy+aK84OaqJqXZsSBinSdsIZpdz58fiZs9l8nSZQKz.4ZrDyoikWYbo6rZs0Xl0WOk33NqVWNtuTMNhtHxKs3oprTqHh47sHMPV8bH2SamSfGItFhF.IttGULg8Cmw33HO7gOjGd+GxPZz4MVZ.qowtltOKrb181mP5U3Oxa8Snw7hyOmSSSdI9QemYzxMjHCIArBk5DGNbfR0WjVl4ssqBtC0shmdq6eu66siLvgcoEg9Q32mIL2auBgFuVKz.RjW6ZK.wsKPDsTNSYdN.lF+cMOFmpkQFXnGXvbke4u3WxbsxsWeMWc0avrQL7M9Z77ANqisR00f10JEQu16OKDXj1pAKkatPm05ZtaKZBAPya02BqkHP+DvLrnsJkem4T2ONGBtZ0YXtYQUGlTJ0NCsiMLguh4w8A1kgKZktx6H6RdYlQtLWfTxIFf3zMupMllOw3twk5q3giCb7vQlKE7Vg3.vZO0a4YObxwfHemuOmyD1s6LlNbC0ZIR4U+i18awh7ttFvy7zoknrb79eWd5XM3h6eAymlWL60Ke.mJRN9itdQkZXdou13+e7Zqc8htDfH8mPkLSGmIO5ACXh2rxONM4tOjyLNLxO6W7Ubw8ufxwYt8vMt165LsXCYOxQ2mnpGYv67N0b9XDLUoGEsWSuFTh90UDk8VeAiR+Xgl7cl0scQq2NFkEkPapEjX3kZP7AUmcOVw6jEZVinmAPYLuyuFXPCJlhlVuo9gsXz0rlhy91Vo3QuQKNAxsHI53sygjxYWbF2+dWfnxZspZqtk3MSyeHyu9HmhyvByBeXhJtx5KudDzUKlT6u31p3bZXmaVsOoIdDhexSeBkCSLc7DJIrBd+RwzEelnybGuI9EG0AaWT1v2wEg.VpPLCkTJy9gy7c1w0.Dt29y3d26b2uSEFGtG+t+4ul+s+O9+DDja3ToDc+Aux8lKyTmmfvLtelF6Qs18oyIOcK.DuhoFonVQbILVdnEhMKZJl9zU.BB9uoAyocs7snlSjE+3tCHGlQoLujkJo0kXWLRgUqTm8lSE4tkKOwBc4CuwvG8cv3djdzCezuBoexbaKzBWwq1800jUVQ7jG+z.1jUxX1eo80AO+hpHuqnn3zDpLWnUlvBex54iryzWK9vJceerkIkc6NiwjRoYKGcoYMQZXGSSmbpgIt.iCwfK4ZcOAimqZzepkkcu8Yck49Ye1Fov9gNSJHzZOhXmoLEp0JiiNySzr6z+ie7mx8u+iY2vdt8la31C2RqUXb779N1Enl.WAXWXQ5ZQVnZVXtWh5adyIdo+AV0f0+2dYepKzJKd8XoLIDbV+rF26Jwe6+FwnyxlTz.Aznuzf4mTl9Q6ZjcjPP0IMiR+34sWRHaQwSMbbqJFfFsWACLqwzj2Xr8ia9DIIZpg.O8IOkewO+Wvt86YPGIEUGeJINPixpyrMad0Xo46QqQjYJCdFSZBz.0DTSHaQivo1b5+G5dDD1safpojS4E73zbFqsxjah6ARGn420U.iHX2VaC0lVG0vz3x5q.CZdEI+VyWPzAFy6HQNxkuSf.uJC7CFwu92+07+v+8+6i9urE4VdCgNv2noAYM6ZZcBIDbVP5GzzBRNXp8VAvNRCgvmtTeLqwzrHAh3ZA6q4aE3BD.xpPqUB+.YoVr6ZZDVYDkFGIDs5LZJhj1V0lJg5W2yiMliev8evuRTAZMW.K6IX1MQBsZizf2uSrlgNjWVjUTd3CeBO3AOv8uo0ePX4F6x.ZXgv8YYsipK9YVQLYXsDHonfYjU.o2nc7d2+9XIIlmc8F8z5s58uOqTqNHR4gbb7.3OycLy5SCcAwt+Dd9zU11h0HV.bZ6ulBKcgbBtPWYZlgAeiZNmPEuPmt39OXo2Me4adEXFiC4EAMs+9FZeRgP7hGghtH3K8itqda1n+HFIMnmSZcoPijU4TKXwM8bWu0myUcuNNhDPtEqQIYYtkvEJ+Q9teuTzsLVrpoVngb8DUB7T4o9ASmuHWaUNM6m2F4nCHzZUJSyb5vQ+khnNNvENMKQd7b9k+h+V9hu7uhww6EZKi5GIguiHEphClx1IlfSmHkdsb39oYaq+kkolyu28YHmobpDs+hnYWeGC8q6jcqyal4C2E7tofCix1hj58EtzcdFjt351+6cu0hlYZdNVbMt45qnYSXpwe7O7M728u5eMIcGsxj2YrpQTuwQGgiCW7jro+y3P0D.+a1prR+owV+b8MudFH7ViqnwZfPzhUxAzVuuQuO9YKWRUkUJ5sYFX4.gZi17ZziD6l4a0PadyUYzZJ0pw7oIRWb9E+JWxz8UnFz3QU06kG4jGsbpdmYO..HgQIQTPTYqRs3reMO3lgZUGutoIOZ386OiG7vGy9c6nYdWHMIQQjG9D14uFQVNUwqcUyAJ5N9GzijCfy1umcimszoEZlw3vNlKSKYpYUe+Fp+HroU91qKAVw86NRO28ml0nE9KFAXBglCUbsH891mXFkv1UqTbqFAuyMKw462yt8mipvid7C4a+1ugc61CRzJ2rNoWSaz9G8lkN4ZWzjsQ.bUA8pvmIjkADosAaLXodZ6Xft3W3ckjMyOGf0HPSOXiUB91U3Ibmo4ES4ZjtsZu+f2+Nwids5mGcUq4sn2VMd4ofndQwLOOsT7zh5M1vRqvgi2Rs1yWLTOMSyf4Ie2+CevCIOtim7jOkG83Ogo4Sb4qeYzqYh2UyOqJVgEgfFRwD6F+hb+JG8nXSJ2b6sbwYmEsdhN6QbyHoXQxdaALw0QlT88mxPIxacu4IgBAQGV7mjNSpuqaW0MUql+p4m4FGu8.Wbw88c80BSyyLc7M769suj+g+g+sLj24AVs1CRwK6z.StMaDuScWGah6M9wN9PZju5dMSa1c6uzK9YrQncwe4He3qsU40noWVxtqX5Rj48gFy8ZJZmasYZklGAtZjbJkDtu3GDNCjP97O6ysjjHqYDI6rNY7+u16JYGII435y7kHxpxp6oWppTOinjHnDHGwg.DPWD3eG+2nf.gfDfFHpO.RQQP1ClY5ZKWhvc2zgmYdDY0sntniocpPkKQFdXtaaO6YiHGyDArA5KSLEPch.fbbbjEdWCHkyH.5vtXJTbJ4r3.+P.HjGw28ceKNt+QLMezh7kKtpnPTRyqLgWj+4nysJ1LbIRCIbXZl1z0JdwKtB288DCg90o9Q5VKO4D.jh1Xu5YJeLx7m+QsjVCiMEBqfKuiUwlo.t9gipPBIHPwvlALLlQTx3vwc3Mu9MHFE7tO+KPdXC929W+WH7lrpRHgDRoL7opoBNvaBB71sFB5XzsGsuuIN6rpftxEFu7UJ51oCNkf.qwlVGgbeQwx8WfAdErteiJaKz6KK7D+8x.VinAfRofXf0i1o3CzTb33AKTxFpEUSJTTr5PFMPPVlNhZj7eRNkg1ZX9Hq7QxHiZxv5JllYTRwjWzY0F6.V0MlK3XHfKR.We80nouEkoBt6CeGdX2i.BazmFpLwpFsGwDWxfdbGFewKMp0cOK9uZcs+huRqseaZUdxYg7IT9VMpGddjxhGDRvZbdzU9D2AZYMq26OQf0QgBNdXORQAHo31auA62e.G1y4VRc9Hd8q9L74e9eI9O+M+FDSNWvDIoPF7oWNO+IHm50oe8gEf.q1lcuPp8Zg.jTwf3l+YaHh.JnYm7YlckncZ3ophpYoooFfT7kY04XPdciwH0UJUjiALWaF8tEAJEx.XzITTqjeXhauX6ubsuVpWxmFajD52dhvQ2qwo.KEHC.FBSbmmi4DxwLm3OyEzzJDDL+.AHYRFw1sWgqe603kuf8tKrEKHQFIMXwqSRvPRhwVTwLFFS396teYSssZHBQqQ2Dt5OODi41Ub5pq0+D8n3NQ6bUd.oRr2f5bdmoc79w2koHX8lKe+9IIQb33d7hqtBe+c2gu8adOd7gGvK9rWgau4Z792+dxf.Rjo4QDrj53UoAZ0uRQDiPNkNhg5hRnz69hA6zofPhrz4YQW4Up5J+NWh7WDlr6dN6d15DUbaHIj+eDkrmlBV62jenjnjgy.naSExOMwT1T.8xB4W3vxvDo0TTzokDSK.4TlYj2Fi60FirJEyjM2Q.CIBqcGCeEqP8hgErVi4eDJSr7Ke0avm+te.FFFv9c6fHbBLVpUDB.at7BDBQFviABgx7r6oH5oeA9NyJazaKMDtxW0vFHTajQzWOOUAL0gQzx+umVcyjm272X8U27IqMQXtOUNfZsfbHi8G1isWtEa2dE9G+E+B7W8C9B7a+c+d.HXt3fjfqOEvCBXvkFES5lgc+M8fRzmkqSIzKdD.XNVsOrZmq5ak7T43sgvZiwYqxMqEWYrYoYIFY4Lq1uUuA1CIRkcy9reQqjmna79JOvCYhaub6ujQY0+Is7iiWJ1mFsp0FgLuWAIfbJycZvOpU..ApfSyECCIln6RAyyETaUqLPLJy4RAyFyZ1pr8Le8adKd60uEuX6KwlwKvlgQLUYCze4EavwiGwz7zJ+LWYSvzkBNpX56pccy0lY8TMnK9NgVezh1mQGBwHX.gdduD6dfV5KVDw7dJIjgnpB2wGCjgnJENUg9Ye0OCiCCHEy312cC99O7A7v8OzUdXoBsmA1FGOpTY08R+7HYAnqTQ7zVZr17sNp+DkTyjOhNB..KiKBWpnYldoVga.gzvrSMvF5g7YAisd2g3pX9Y1fMpurYXhoI6rhFDqcDIZUaHnVg5aUvYBrhiGK7TuMb2TozPLMXIMMXQRV.jDpybdt0zfUmR1pysZE6OriS9xXDCiYTIZSwwoi33AluwsauDu7kuCaupBnUTZGwSGdBO9vGfDxnU2QHeWWVvJ.FqREQowgm7R.BgEETuuJNInkV++U8t3xEEKlhT9.DZCOyiRVYCvCbrttgLt0EaPYtfMaFQqZMfTqw9eoI3K+I+X7zi6wC2cOQviGY+5HVa0dB5WKbKenWdMXALAQXlGDEPpL2pgHQpb.P7NhCj96jL5.Ms6OrCxTa8g3KT78jPUNhMTckKCBbtjp6hj.d.TCMjCYCCo7Ekau4VEX4h5ld4Mm4Dd.KIPNvZANjxHjFPJj64BJDGIQNZ186eKVODzrSFYznb2Aqqp4eWfIhVqDUHCCCXbykDqcMfTNhbb4Fs1J33wC3t6tC2c+cHHNvJam9fxVIH10r+gAao5x+g22JXW92+3g9ZQ+gdfaXoEbyL3J+ihjl4wbcBHBr8psHn7Drz3.jFvO+m+Ofu4a9i3wG2gqtZKdyatFe8W+0PagUvY2RR+5cJ8TvXq4VEaphmHX9Timk2rOpwhLqB0ODMHus5l5DebA8ad4DWKpbmeo6qsVUkLSdhDnBn4atVIngcDgu9TVEpZ8.3xwkpW+NSCm3RKiHprzPZE.QLUlgTJnkuv5K1LBsCzw3v.ymk4+UowdNcXbC4PEGXAJGDy..oDfNaKXjAEQsUwSO8jURP5SUNmsfhCHlRHjt.e1qFve2e6WhFTb2GtC+o2+eicG1CqCnr6OBd1jop0BBP+3+vINw2DG39qEcYrao.sPDxyy0Fb.PPbCJMAi4ATm4.kd+zLdYd.oTB+t+qeKd2m+E3l+hao6HbNMwlIu4nEQ9HkeOlqbfCRQMzPwUN.L+qs66m0Vq0JMcFMxnrGCkUyZI3WsEh.8zffj9TPnygLhfFJPKDvBwvRFfzFIy9TN.GDwOaI0NArsbIf0PR7MPeHDi0R4FclxkXXDRznsVvYzaH4zY1JhvQ7roySXaUlNiVkHIVD18TZsgiGH5XxwDxWrAYjvjg554psqTBHlDTUtOOmI4JN2ZHY9ZAoZQly.kNd3.NreGJ5DDK.n98q0Bhx56YvQOKy0EW3BhGEn8detlmsfFMFIEfsXZdHfiGmvEWdAcX2HwnW+p2f+lezOBO7g6vtc6w7zQ7ztcHDFvR5WrqmM7BcOdSHhpwufgU+TpLCvmjiN9GIKvrBOuLGsmYK8oBV0GKzhnzaT802tM2Muvp5jalhgEMdoYA2Xjrj.EkY2eadptH.sppxsu81SUK6NueZQpouF1eaJS4bhikpHS8BgniyDml+Ig.fjw5HTUClPsN2DKHGGYPI04NNACRBgnfwgQrYXCZJGkqjjtYTzR2oaBupppPTF4bSZHGRbH0LNfVq1oNWQa3wm1iCSGvz9izYZ380g2OxVkQD+d1M4Z.oPetWfhgQOPt0SULUmYYmZULNLh4oYHo.dw1qvgYE271WgggLdwUuD2b8aw+9W+e.uxHcE.GiVmnq27.tohgwW2b4bIkJL2mOqutEuzdvh+JBepTIVOe.SmjAIadQGZn0BD86BCFsnj3kHlNohWooHlrCy.+9KlkNWglURon7DPebCn5oJd8ekKJTBb1xzy3fxngSiHmGwPlLPeGwIUkv3FQCVWK.YMLbQmJI3TYrZQ5EPNjYqQNOAfDOoKDQLkHJeDOpLyjZoZ8xQyPkDMo3PGOHAxTpRniNXDC3hwMHDSnpUbb+Al+xRA2e+i3vzdHM1fPZaYfwz.rgnCfS4Hh4Bi6dfSzOsRCGl1ipRX06y2ssWdE1bwHzlh271avO8u+qPLI33gI7q+0+yff1Lgn7wMFlGQ6RMvQOMKqB221.sJ8L1I5dB0YVXpcE8jk.a1NrQKg5XojcvbUIvuL0B.A.PKyPswDqDhr.BZ.PrTlUVGGtcXw7ro.tJhmOoskPjMM8pahnD9n2VdbDhjPNk4T6QzNo93QWlRTQrU.jXlbabJf7vF3i3dsREQUnYkVmg7szi.XI1lznKS0Poa5JF3v0KJr4wQxSQDa58nH.FsTjSwSJ1OMQPSTZPQsPvVVKMi8CJcXpc33NFookXWQ7kRKg31xUY5.NLevZgTxb84XBu95WCUi3G9C+qw6t9VNApDdM+m9U+JjxYjibMsTpmpGY98gtdm.e17oNjxL2ip8NFL.DXvEKsuCU3X+dr.IrOwbkB.qP.stf2SUajwET23Y.h0AbderTs.fpsZmBhappxs2Zm.9IGmpKJfjMiN88rl5M7WgGimsZZRXoGre3U0iPyrcnFhcUVFmPZ.oD6fsXjzVawn0BU3IPruXaVshU3fd746a7Y0aCBZ8hsWQNOvJGjhVnWcua.AYLGaUM.xRCPsHFSP0FxC4d9AoeLjhPF1vA02goInsHd7wGw9iOwSPmmvg4GQsLAQXE.pkYb8s2fTHgxTAe4O8q.zF1MwwkwzwI7G+C+ALNdEJUVpzF3H.6jS4jkC+N4YiD5M1DKQmrXQSAFVMmUpAAAu7oA2G2OMHdWtvpGoJmibXE1NiBH6IT68lL.IOfdiU0.ZPWaB9OiB3p9tP7PjANoOJBezIhhkKsFPHQ7AZCw4NNJk9WJfv.cxCrejiwDCpwB.JFkdd1bvNJBrSkVpGrm6o9az74iCwEy7twFo0Jm7RQiWbzHf1XNqRgHpp4juY2IlicjLkGF3DqzfZFMslAZ.47.xCCXX7BTqJFRIbbZOlpS3a+l+DlKS3wcOAnS.phgwDt4laAffK1rAkxLdb2Are2SXyvFLOo8D6+73eT697ihZW0SQXg4Ka03PvTbvh8z+jg9aKlbTP8wnjjlr87DR1uhVjRlu89OTZIqp92CPoLuzCy7B7bSv+eHqhlc4m7+6u4mONEbG3IwBMrDqmA4+ZibMBj.464zHFGFvXdDHay6h1LRAlFnVEV+JHL5O.63caTAP1Ie0hnMJ6sbNZafYELpsd+XvIRtCRAXPaeo3+tsmXLh7PluFDHg.xgHB4QhBjPDWd4k3hMWh6e3NhlDEXbbfqC0Bt3hKgfFdX2Gv77dbX1YReNei0JvwCyKHl1tWVHwHaGAs0x+km9k0nhwbgpAapD3qKdVJvxGI4nnFAnQ0nnsmcrKTnyLaCbP3vjQmhYLsZZ.vmIvZ.LESMNHgxDzEZheuKZz+YE+aS3ComAuLdeJKybVw+L8Ot1eslRpxU.f1rQ4E.ZUliviZEo1QzzQb33iFqIv5FiDGC.pLioYFtOixRsHrDLOOa836hDDw.ZgAMbQ.BCV8Kgw9TJjPsmyLVo.gSHIX2+18PsXLhkcbdJlXKZOSdeNk1fVqg6u6AhItXBAyGuPj.uHFSXXXDa1bIzVASyJt69uEyy6QAGwvPfz0ALvT3+P8PXce28Yol6rtxS7I+JsxFsx1.iENfaz5qRdYViQTzFhNEt4QWC.15tyDDJ88iUR9nwDJFqUzq+tQ5QJBbvTVI+PxdFW.8A7SAHcschxyGIlRX+OkUufWGRD6JY.Vwv5mhx0pn7rq65KQLfPZzL6yEZluwkAnWDALNtAslhoYR0Zs5b2Lc+1Y08h6FQNm.hoNDi72zbAvqwLogijUk.AnNyGr8pGYewVi5OjhHNrg6kcWKBQRIsAzQBRZX.gTBQnHkFvlq11GMB04Ire+Nbb5I.go2HIYHQlLYeJfNOMiCG16GHs7bwcwwFyBsRAdpp3ChLelzGCClBp2OI.HK.SMsWYq.Bcp7H77zBEPunCZo0+dakJl0h4qeB01DFhYDRIjBQ1QbmkyxY4rbVNKmkyxY4rbVNKmkyxY4rbVNKmkyxY4rbVNKmkyxY4rbVNKmkyxY4rbVNKmk++P9eHLMNSqyP8Er.....jTQNQjqBAlf\""
   ]
  }
 ],
 "metadata": {
  "kernelspec": {
   "display_name": "Python 3",
   "language": "python",
   "name": "python3"
  },
  "language_info": {
   "codemirror_mode": {
    "name": "ipython",
    "version": 3
   },
   "file_extension": ".py",
   "mimetype": "text/x-python",
   "name": "python",
   "nbconvert_exporter": "python",
   "pygments_lexer": "ipython3",
   "version": "3.4.3"
  }
 },
 "nbformat": 4,
 "nbformat_minor": 0
}
